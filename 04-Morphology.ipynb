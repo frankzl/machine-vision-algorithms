{
 "cells": [
  {
   "cell_type": "markdown",
   "metadata": {},
   "source": [
    "# Morphology\n",
    "\n",
    "Segmentation removes unwanted noisy parts, but its shape might also be disturbed due to reflections.\n",
    "\n",
    "- Morphology: Theory for analysis of spatial structure\n",
    "- operations: describe or influence the form of objects\n",
    "\n",
    "\n",
    "- gray value morphology\n",
    "\n",
    "\n",
    "- region morphology: morphological operations on regions\n",
    "    - union, intersection, difference, complement, translation, transposition\n",
    "    - Vereinigung, Durchschnitt, Differenz, Komplement, Translation, Transposition\n",
    "    \n",
    "\n",
    "## Properties of region operations\n",
    "- Idempotent $\\qquad\\qquad\\qquad f ( f ( R )) = f(R)$\n",
    "- Verschiebungsinvariant $\\qquad f( R )_t = f(R_t)$\n",
    "- Increasing $\\qquad\\qquad\\qquad R \\subseteq S \\Longrightarrow f(R) \\subseteq f(S)$\n",
    "- Decreasing $\\qquad\\qquad\\qquad R \\subseteq S \\Longrightarrow f(S) \\subseteq f(R)$\n",
    "- (Flächen-) extensiv: $\\qquad\\qquad R \\subseteq f(R)$\n",
    "- (Flächen-) anti-extensiv: $\\qquad f(R) \\subseteq R$\n",
    "- Entitäten-invariant $\\qquad\\qquad\\mid Z (f( R))\\mid = \\mid Z(R)\\mid$\n",
    "- Entitäten-extensiv $\\qquad\\qquad\\mid Z (f( R))\\mid \\geq \\mid Z(R)\\mid$\n",
    "- Entitäten-anti-extensiv $\\qquad\\mid Z (f( R))\\mid \\leq \\mid Z(R)\\mid$"
   ]
  },
  {
   "cell_type": "markdown",
   "metadata": {},
   "source": [
    "### Union\n",
    "$R \\cup S = \\{ p \\mid p \\in R \\vee p \\in S \\}$\n",
    "\n",
    "- Idempotent, Increasing, Extensiv, Kommutativ, Assoziativ"
   ]
  },
  {
   "cell_type": "markdown",
   "metadata": {},
   "source": [
    "### Intersection (Durchschnitt)\n",
    "\n",
    "$R \\cap S = \\{ p \\mid p \\in R \\wedge p \\in S \\}$\n"
   ]
  },
  {
   "cell_type": "markdown",
   "metadata": {},
   "source": [
    "### Difference\n",
    "$R \\setminus S = \\{ p \\mid p \\in R \\vee p \\notin S \\}$\n"
   ]
  },
  {
   "cell_type": "markdown",
   "metadata": {},
   "source": [
    "### Complement\n",
    "$\\overline{R} = \\{ p \\mid p \\notin R \\}$"
   ]
  },
  {
   "cell_type": "markdown",
   "metadata": {},
   "source": [
    "### Translation\n",
    "$R_t = \\{ p \\mid p-t \\in R \\} = \\{q \\mid q = p + t $ für $p \\in R\\}$"
   ]
  },
  {
   "cell_type": "markdown",
   "metadata": {},
   "source": [
    "### Transposition\n",
    "$\\check{R} = \\{ -p \\mid p \\in R\\}$\n",
    "- flipping it through 0,0\n"
   ]
  },
  {
   "cell_type": "markdown",
   "metadata": {},
   "source": [
    "### Minkowski-Addition\n",
    "\n",
    "$R \\oplus S = \\{ r + s \\mid r \\in R, s \\in S\\} = \\{t \\mid R \\cap (\\check{S})_t \\neq \\emptyset \\}$ "
   ]
  },
  {
   "cell_type": "markdown",
   "metadata": {},
   "source": [
    "### Dilation (Dilatation)\n",
    "$R \\oplus \\check{S} = \\{ t \\mid R \\cap S_t \\neq \\emptyset\\}$ \n",
    "\n",
    "Dilation and Minkowski-Addition enlarge the input region.\n",
    "\n",
    "\n",
    "It can be used to merge separate parts of a region into a single part"
   ]
  },
  {
   "cell_type": "markdown",
   "metadata": {},
   "source": [
    "### Minkowski-Substraction\n",
    "$R \\ominus S = \\cap_{s\\in S} R_s = \\{ r \\mid \\forall s \\in S : r - s \\in R\\} = \\{t \\mid (\\check{S})_t \\subseteq R \\}$\n",
    "\n",
    "We can move the transposed structuring element S around in the plane. If it is completely contained in the region R, we add its reference point to the output."
   ]
  },
  {
   "cell_type": "markdown",
   "metadata": {},
   "source": [
    "### Erosion\n",
    "$R \\ominus \\check{S} = \\cap_{s\\in S} R_{-s} = \\{t \\mid {S}_t \\subseteq R \\}$\n",
    "\n",
    "Minkowski substraction and erosion shrink the input region. This can be used to separate objects that are attached to each other.\n",
    "\n",
    "\n",
    "Erosion returns the translated reference point of the structuring element S for every translation for which $S_t$ completely fits into region $R$. Erosion works like a **template matching operation**."
   ]
  },
  {
   "cell_type": "markdown",
   "metadata": {},
   "source": [
    "### Hit-or-Miss-Transformation\n",
    "Region $R$\n",
    "\n",
    "\n",
    "Regions $S = ( S^f, S^b )$\n",
    "\n",
    "\n",
    "$R\\otimes S = (R\\ominus \\check{S}^f) \\cap (\\overline{R} \\ominus \\check{S}^b)$\n",
    "\n",
    "All points of the foreground $S^f$ must fit into the region and all points from the background region $S^b$ must fit into the background (complement of the region)"
   ]
  },
  {
   "cell_type": "markdown",
   "metadata": {},
   "source": [
    "### Opening\n",
    "$R \\circ S = (R\\ominus \\check{S}) \\oplus S$\n",
    "\n",
    "Used to find objects (only estimation)\n",
    "\n",
    "\n",
    "If circles or rectangles are used:\n",
    "- dents are removed\n",
    "- small objects and edges are suppressed\n",
    "- bridges between objects are removed"
   ]
  },
  {
   "cell_type": "markdown",
   "metadata": {},
   "source": [
    "### Closing\n",
    "\n",
    "$R \\bullet S = (R\\oplus \\check{S}) \\ominus S$\n",
    "\n",
    "If circles or rectangles are used as S:\n",
    "- dents are removed\n",
    "- close objects are connected\n",
    "- holes are closed"
   ]
  },
  {
   "cell_type": "code",
   "execution_count": 7,
   "metadata": {},
   "outputs": [],
   "source": [
    "### Grauwertmorphologie"
   ]
  },
  {
   "cell_type": "code",
   "execution_count": 8,
   "metadata": {},
   "outputs": [],
   "source": [
    "### Rangfilter"
   ]
  },
  {
   "cell_type": "code",
   "execution_count": 9,
   "metadata": {},
   "outputs": [],
   "source": [
    "### Distanztransformation - City Block Metrik"
   ]
  },
  {
   "cell_type": "code",
   "execution_count": 10,
   "metadata": {},
   "outputs": [],
   "source": [
    "### Skelett"
   ]
  },
  {
   "cell_type": "code",
   "execution_count": 11,
   "metadata": {},
   "outputs": [],
   "source": [
    "### Wasserschneiden"
   ]
  },
  {
   "cell_type": "code",
   "execution_count": null,
   "metadata": {},
   "outputs": [],
   "source": []
  }
 ],
 "metadata": {
  "kernelspec": {
   "display_name": "Python 3",
   "language": "python",
   "name": "python3"
  },
  "language_info": {
   "codemirror_mode": {
    "name": "ipython",
    "version": 3
   },
   "file_extension": ".py",
   "mimetype": "text/x-python",
   "name": "python",
   "nbconvert_exporter": "python",
   "pygments_lexer": "ipython3",
   "version": "3.5.2"
  }
 },
 "nbformat": 4,
 "nbformat_minor": 2
}
