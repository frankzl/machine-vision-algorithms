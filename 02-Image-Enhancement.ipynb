{
 "cells": [
  {
   "cell_type": "markdown",
   "metadata": {},
   "source": [
    "# Image Enhancement"
   ]
  },
  {
   "cell_type": "markdown",
   "metadata": {},
   "source": [
    "## Gray Value Transformation (Grauwerttransformation)\n",
    "\n",
    "Necessary to extract object's features more easily. Reasons:\n",
    "- weak contrast\n",
    "- changed contrast\n",
    "- uneven illumination\n",
    "\n",
    "Input gray value: $g_{r,c}$ <br>\n",
    "$ t_{r,c} = f(g_{r,c}) $\n",
    "\n",
    "Example: Gamma-Correction\n",
    "\n",
    "$ f(g) = 255 * (\\frac{g}{255})^{l/\\gamma} $"
   ]
  },
  {
   "cell_type": "code",
   "execution_count": null,
   "metadata": {},
   "outputs": [],
   "source": []
  }
 ],
 "metadata": {
  "kernelspec": {
   "display_name": "Python 3",
   "language": "python",
   "name": "python3"
  },
  "language_info": {
   "codemirror_mode": {
    "name": "ipython",
    "version": 3
   },
   "file_extension": ".py",
   "mimetype": "text/x-python",
   "name": "python",
   "nbconvert_exporter": "python",
   "pygments_lexer": "ipython3",
   "version": "3.5.2"
  }
 },
 "nbformat": 4,
 "nbformat_minor": 2
}
