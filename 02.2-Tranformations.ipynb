{
 "cells": [
  {
   "cell_type": "markdown",
   "metadata": {},
   "source": [
    "## Affine 2D Transformation\n",
    "\n",
    "$ \\begin{pmatrix}\\widetilde{r} \\\\ \\widetilde{c}\\end{pmatrix}\n",
    "    = \\begin{pmatrix}a_{11} & a_{12} \\\\ a_{21} & a_{22}\\end{pmatrix}\n",
    "    \\begin{pmatrix}r \\\\ c\\end{pmatrix} +\n",
    "    \\begin{pmatrix}t_r \\\\ t_c\\end{pmatrix}\n",
    "$\n",
    "\n",
    "$ \\begin{pmatrix}\\widetilde{r} \\\\ \\widetilde{c} \\\\ 1\\end{pmatrix}\n",
    "    = \\begin{pmatrix}a_{11} & a_{12} & t_r\\\\ a_{21} & a_{22} & t_c\\\\\n",
    "    0 & 0 & 1\n",
    "    \\end{pmatrix}\n",
    "    \\begin{pmatrix}r \\\\ c \\\\ 1\\end{pmatrix}\n",
    "$"
   ]
  },
  {
   "cell_type": "markdown",
   "metadata": {},
   "source": [
    "### Translation\n",
    "\n",
    "$\\begin{pmatrix}1 & 0 & t_r  \\\\ 0 & 1 & t_c \\end{pmatrix}$\n",
    "\n",
    "### Skalierung in Zeile und Spalte\n",
    "\n",
    "$\\begin{pmatrix}s_r & 0 & 0  \\\\ 0 & s_c & 0 \\end{pmatrix}$\n",
    "\n",
    "### Rotation um $\\alpha$\n",
    "\n",
    "$\\begin{pmatrix}\\cos\\alpha & -\\sin\\alpha & 0  \\\\ \\sin\\alpha & \\cos\\alpha & 0 \\end{pmatrix}$\n",
    "\n",
    "### Scherung der Zeilen-Achse um $\\theta$\n",
    "\n",
    "$\\begin{pmatrix}\\cos\\theta & 0 & 0  \\\\ \\sin\\theta & 1 & 0 \\end{pmatrix}$"
   ]
  },
  {
   "cell_type": "markdown",
   "metadata": {},
   "source": [
    "## Projektive Transformation\n",
    "\n",
    "## Polartransformation"
   ]
  },
  {
   "cell_type": "code",
   "execution_count": null,
   "metadata": {},
   "outputs": [],
   "source": []
  }
 ],
 "metadata": {
  "kernelspec": {
   "display_name": "Python 3",
   "language": "python",
   "name": "python3"
  },
  "language_info": {
   "codemirror_mode": {
    "name": "ipython",
    "version": 3
   },
   "file_extension": ".py",
   "mimetype": "text/x-python",
   "name": "python",
   "nbconvert_exporter": "python",
   "pygments_lexer": "ipython3",
   "version": "3.5.2"
  }
 },
 "nbformat": 4,
 "nbformat_minor": 2
}
