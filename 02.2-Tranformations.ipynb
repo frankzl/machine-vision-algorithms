{
 "cells": [
  {
   "cell_type": "markdown",
   "metadata": {},
   "source": [
    "## Affine 2D Transformation\n",
    "\n",
    "$ \\begin{pmatrix}\\widetilde{r} \\\\ \\widetilde{c}\\end{pmatrix}\n",
    "    = \\begin{pmatrix}a_{11} & a_{12} \\\\ a_{21} & a_{22}\\end{pmatrix}\n",
    "    \\begin{pmatrix}r \\\\ c\\end{pmatrix} +\n",
    "    \\begin{pmatrix}t_r \\\\ t_c\\end{pmatrix}\n",
    "$\n",
    "\n",
    "$ \\begin{pmatrix}\\widetilde{r} \\\\ \\widetilde{c} \\\\ 1\\end{pmatrix}\n",
    "    = \\begin{pmatrix}a_{11} & a_{12} & t_r\\\\ a_{21} & a_{22} & t_c\\\\\n",
    "    0 & 0 & 1\n",
    "    \\end{pmatrix}\n",
    "    \\begin{pmatrix}r \\\\ c \\\\ 1\\end{pmatrix}\n",
    "$\n",
    "\n",
    "Bilder werden transformiert, indem für jeden Punkt im Ergebnisbild berechnet wird, wo er im Eingabebild liegt und ein entsprechender Grauwert zugewiesen wird."
   ]
  },
  {
   "cell_type": "markdown",
   "metadata": {},
   "source": [
    "### Translation\n",
    "\n",
    "$ \\begin{pmatrix}\\widetilde{r} \\\\ \\widetilde{c} \\\\ 1\\end{pmatrix} = \\begin{pmatrix}1 & 0 & t_r  \\\\ 0 & 1 & t_c \\end{pmatrix}\n",
    "\\begin{pmatrix}r \\\\ c \\\\ 1\\end{pmatrix}\n",
    "$\n",
    "\n",
    "#### Reverse\n",
    "\n",
    "$\n",
    "\\begin{pmatrix}r \\\\ c \\\\ 1\\end{pmatrix}\n",
    " = \\begin{pmatrix}1 & 0 & t_r  \\\\ 0 & 1 & t_c \\end{pmatrix}^{-1} \\begin{pmatrix}\\widetilde{r} \\\\ \\widetilde{c} \\\\ 1\\end{pmatrix}\n",
    "$"
   ]
  },
  {
   "cell_type": "markdown",
   "metadata": {},
   "source": [
    "### Example: Shift image by a vector v\n",
    "\n",
    "$ v = \\begin{pmatrix}10 \\\\ 10\\end{pmatrix} $\n",
    "\n",
    "$\n",
    "\\begin{pmatrix}r \\\\ c \\\\ 1\\end{pmatrix}\n",
    " = \\begin{pmatrix}1 & 0 & 10  \\\\ 0 & 1 & 10 \\end{pmatrix}^{-1} \\begin{pmatrix}\\widetilde{r} \\\\ \\widetilde{c} \\\\ 1\\end{pmatrix}\n",
    "$"
   ]
  },
  {
   "cell_type": "code",
   "execution_count": 4,
   "metadata": {},
   "outputs": [
    {
     "ename": "NameError",
     "evalue": "name 'np' is not defined",
     "output_type": "error",
     "traceback": [
      "\u001b[0;31m-------------------------------------------------------------------------\u001b[0m",
      "\u001b[0;31mNameError\u001b[0m                               Traceback (most recent call last)",
      "\u001b[0;32m<ipython-input-4-6506040faa35>\u001b[0m in \u001b[0;36m<module>\u001b[0;34m()\u001b[0m\n\u001b[1;32m      2\u001b[0m \u001b[0;32mimport\u001b[0m \u001b[0mnumpy\u001b[0m \u001b[0;32mas\u001b[0m \u001b[0mnp\u001b[0m\u001b[0;34m\u001b[0m\u001b[0m\n\u001b[1;32m      3\u001b[0m \u001b[0;34m\u001b[0m\u001b[0m\n\u001b[0;32m----> 4\u001b[0;31m \u001b[0mimg\u001b[0m \u001b[0;34m=\u001b[0m \u001b[0mrd\u001b[0m\u001b[0;34m.\u001b[0m\u001b[0mread_gray\u001b[0m\u001b[0;34m(\u001b[0m\u001b[0;34m\"images/01-why1.jpg\"\u001b[0m\u001b[0;34m)\u001b[0m\u001b[0;34m\u001b[0m\u001b[0m\n\u001b[0m\u001b[1;32m      5\u001b[0m \u001b[0mrd\u001b[0m\u001b[0;34m.\u001b[0m\u001b[0mshow_img\u001b[0m\u001b[0;34m(\u001b[0m\u001b[0mimg\u001b[0m\u001b[0;34m)\u001b[0m\u001b[0;34m\u001b[0m\u001b[0m\n\u001b[1;32m      6\u001b[0m \u001b[0;34m\u001b[0m\u001b[0m\n",
      "\u001b[0;32m~/coding/machine-vision-algorithms/img_reader.py\u001b[0m in \u001b[0;36mread_gray\u001b[0;34m(path)\u001b[0m\n\u001b[1;32m     18\u001b[0m     \u001b[0;32mreturn\u001b[0m \u001b[0mnp\u001b[0m\u001b[0;34m.\u001b[0m\u001b[0mdot\u001b[0m\u001b[0;34m(\u001b[0m\u001b[0mrgb\u001b[0m\u001b[0;34m,\u001b[0m \u001b[0;34m[\u001b[0m\u001b[0;36m0.299\u001b[0m\u001b[0;34m,\u001b[0m \u001b[0;36m0.587\u001b[0m\u001b[0;34m,\u001b[0m \u001b[0;36m0.114\u001b[0m\u001b[0;34m]\u001b[0m\u001b[0;34m)\u001b[0m\u001b[0;34m\u001b[0m\u001b[0m\n\u001b[1;32m     19\u001b[0m \u001b[0;34m\u001b[0m\u001b[0m\n\u001b[0;32m---> 20\u001b[0;31m \u001b[0;32mdef\u001b[0m \u001b[0mread_gray\u001b[0m\u001b[0;34m(\u001b[0m\u001b[0mpath\u001b[0m\u001b[0;34m)\u001b[0m\u001b[0;34m:\u001b[0m\u001b[0;34m\u001b[0m\u001b[0m\n\u001b[0m\u001b[1;32m     21\u001b[0m     \u001b[0;32mreturn\u001b[0m \u001b[0mrgb2gray\u001b[0m\u001b[0;34m(\u001b[0m\u001b[0mmisc\u001b[0m\u001b[0;34m.\u001b[0m\u001b[0mimread\u001b[0m\u001b[0;34m(\u001b[0m\u001b[0mpath\u001b[0m\u001b[0;34m)\u001b[0m\u001b[0;34m)\u001b[0m\u001b[0;34m\u001b[0m\u001b[0m\n",
      "\u001b[0;32m~/coding/machine-vision-algorithms/img_reader.py\u001b[0m in \u001b[0;36mrgb2gray\u001b[0;34m(rgb)\u001b[0m\n\u001b[1;32m     15\u001b[0m \u001b[0;34m\u001b[0m\u001b[0m\n\u001b[1;32m     16\u001b[0m \u001b[0;34m\u001b[0m\u001b[0m\n\u001b[0;32m---> 17\u001b[0;31m \u001b[0;32mdef\u001b[0m \u001b[0mrgb2gray\u001b[0m\u001b[0;34m(\u001b[0m\u001b[0mrgb\u001b[0m\u001b[0;34m)\u001b[0m\u001b[0;34m:\u001b[0m\u001b[0;34m\u001b[0m\u001b[0m\n\u001b[0m\u001b[1;32m     18\u001b[0m     \u001b[0;32mreturn\u001b[0m \u001b[0mnp\u001b[0m\u001b[0;34m.\u001b[0m\u001b[0mdot\u001b[0m\u001b[0;34m(\u001b[0m\u001b[0mrgb\u001b[0m\u001b[0;34m,\u001b[0m \u001b[0;34m[\u001b[0m\u001b[0;36m0.299\u001b[0m\u001b[0;34m,\u001b[0m \u001b[0;36m0.587\u001b[0m\u001b[0;34m,\u001b[0m \u001b[0;36m0.114\u001b[0m\u001b[0;34m]\u001b[0m\u001b[0;34m)\u001b[0m\u001b[0;34m\u001b[0m\u001b[0m\n\u001b[1;32m     19\u001b[0m \u001b[0;34m\u001b[0m\u001b[0m\n",
      "\u001b[0;31mNameError\u001b[0m: name 'np' is not defined"
     ]
    }
   ],
   "source": [
    "import img_reader as rd\n",
    "import numpy as np\n",
    "\n",
    "img = rd.read_gray(\"images/01-why1.jpg\")\n",
    "rd.show_img(img)\n",
    "\n",
    "translation = np.matrix( [[1,0,10],[0,1,10]] )\n",
    "print(img)"
   ]
  },
  {
   "cell_type": "markdown",
   "metadata": {},
   "source": [
    "### Skalierung in Zeile und Spalte\n",
    "\n",
    "$\\begin{pmatrix}s_r & 0 & 0  \\\\ 0 & s_c & 0 \\end{pmatrix}$\n",
    "\n",
    "### Rotation um $\\alpha$\n",
    "\n",
    "$\\begin{pmatrix}\\cos\\alpha & -\\sin\\alpha & 0  \\\\ \\sin\\alpha & \\cos\\alpha & 0 \\end{pmatrix}$\n",
    "\n",
    "### Scherung der Zeilen-Achse um $\\theta$\n",
    "\n",
    "$\\begin{pmatrix}\\cos\\theta & 0 & 0  \\\\ \\sin\\theta & 1 & 0 \\end{pmatrix}$"
   ]
  },
  {
   "cell_type": "markdown",
   "metadata": {},
   "source": [
    "## Projektive Transformation\n",
    "\n",
    "## Polartransformation"
   ]
  },
  {
   "cell_type": "code",
   "execution_count": null,
   "metadata": {},
   "outputs": [],
   "source": []
  }
 ],
 "metadata": {
  "kernelspec": {
   "display_name": "Python 3",
   "language": "python",
   "name": "python3"
  },
  "language_info": {
   "codemirror_mode": {
    "name": "ipython",
    "version": 3
   },
   "file_extension": ".py",
   "mimetype": "text/x-python",
   "name": "python",
   "nbconvert_exporter": "python",
   "pygments_lexer": "ipython3",
   "version": "3.5.2"
  }
 },
 "nbformat": 4,
 "nbformat_minor": 2
}
